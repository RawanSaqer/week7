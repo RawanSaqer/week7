{
 "cells": [
  {
   "cell_type": "markdown",
   "metadata": {},
   "source": [
    "# Python Numpy\n",
    "- Numpy is a general-purpose array-processing package. It provides a high-performance multidimensional array object, and tools for working with these arrays. It is the fundamental package for scientific computing with Python."
   ]
  },
  {
   "cell_type": "markdown",
   "metadata": {},
   "source": [
    "##  Creating a Numpy Array"
   ]
  },
  {
   "cell_type": "code",
   "execution_count": 2,
   "metadata": {},
   "outputs": [],
   "source": [
    "import numpy as np"
   ]
  },
  {
   "cell_type": "code",
   "execution_count": 23,
   "metadata": {},
   "outputs": [
    {
     "name": "stdout",
     "output_type": "stream",
     "text": [
      "[1 2 3 4]\n",
      "[1. 2. 3. 4.]\n",
      "\n",
      "[[1 2]\n",
      " [3 4]\n",
      " [5 6]]\n",
      "\n",
      "3d:  [[[1 2]\n",
      "  [4 5]]\n",
      "\n",
      " [[6 7]\n",
      "  [8 9]]]\n",
      "2d shape: (3, 2)\n",
      "(2, 2, 2)\n",
      "(4,)\n",
      "3 2\n",
      "3\n",
      "0\n",
      "1\n"
     ]
    }
   ],
   "source": [
    "## one dim array\n",
    "scalar=np.array(3)\n",
    "arr1D=np.array([1,2,3,4])\n",
    "print(arr1D)\n",
    "\n",
    "## datatypes of Arrays\n",
    "arr11=np.array([1,2,3,4], dtype=np.float32)\n",
    "print(arr11)\n",
    "\n",
    "## two dimensional array\n",
    "arr2D=np.array([[1,2],[3,4],[5,6]])\n",
    "print()\n",
    "print(arr2D)\n",
    "\n",
    "## multiple dimensional array\n",
    "\n",
    "arr3D=np.array([[[1,2],[4,5]],[[6,7],[8,9]]])\n",
    "print()\n",
    "print('3d: ', arr3D)\n",
    "## shape of arrary\n",
    "print('2d shape:', arr2D.shape)\n",
    "print(arr3D.shape)\n",
    "print(arr11.shape)\n",
    "r, c=arr2D.shape\n",
    "r1,c1,d1=arr3D.shape\n",
    "print(r,c)\n",
    "## Check how many dimensions the arrays have:\n",
    "print(arr3D.ndim)\n",
    "print(scalar.ndim)\n",
    "print(arr11.ndim)"
   ]
  },
  {
   "cell_type": "markdown",
   "metadata": {},
   "source": [
    "### Convert Python List to numpy Arrays"
   ]
  },
  {
   "cell_type": "code",
   "execution_count": 19,
   "metadata": {},
   "outputs": [
    {
     "name": "stdout",
     "output_type": "stream",
     "text": [
      "[3 4 5]\n",
      "(2, 3)\n"
     ]
    }
   ],
   "source": [
    "ll=[3,4,5]\n",
    "ll2d=[[3,4,5],[6,7,8]]\n",
    "arr12=np.asarray(ll)\n",
    "arr13=np.array(ll2d)\n",
    "print(arr12)\n",
    "print(arr13.shape)"
   ]
  },
  {
   "cell_type": "code",
   "execution_count": 22,
   "metadata": {},
   "outputs": [
    {
     "name": "stdout",
     "output_type": "stream",
     "text": [
      "<class 'list'>\n"
     ]
    }
   ],
   "source": [
    "# convert numpy array to list\n",
    "arr20=np.array([3,4,5])\n",
    "lst=arr20.tolist()\n",
    "print(type(lst))"
   ]
  },
  {
   "cell_type": "code",
   "execution_count": 33,
   "metadata": {},
   "outputs": [
    {
     "name": "stdout",
     "output_type": "stream",
     "text": [
      "[[[[[[10 12]]]]]]\n",
      "(1, 1, 1, 1, 1, 2)\n",
      "6\n"
     ]
    }
   ],
   "source": [
    "arr6D=np.array([10,12],ndmin=6)\n",
    "print(arr6D)\n",
    "print(arr6D.shape)\n",
    "print(arr6D.ndim)"
   ]
  },
  {
   "cell_type": "code",
   "execution_count": 39,
   "metadata": {
    "scrolled": true
   },
   "outputs": [
    {
     "name": "stdout",
     "output_type": "stream",
     "text": [
      "[[0. 0. 0. 0.]\n",
      " [0. 0. 0. 0.]\n",
      " [0. 0. 0. 0.]]\n",
      "[[[1. 1. 1. 1. 1.]\n",
      "  [1. 1. 1. 1. 1.]]\n",
      "\n",
      " [[1. 1. 1. 1. 1.]\n",
      "  [1. 1. 1. 1. 1.]]\n",
      "\n",
      " [[1. 1. 1. 1. 1.]\n",
      "  [1. 1. 1. 1. 1.]]\n",
      "\n",
      " [[1. 1. 1. 1. 1.]\n",
      "  [1. 1. 1. 1. 1.]]]\n",
      "[[1. 0. 0. 0.]\n",
      " [0. 1. 0. 0.]\n",
      " [0. 0. 1. 0.]\n",
      " [0. 0. 0. 1.]]\n",
      "(4, 2, 5)\n"
     ]
    }
   ],
   "source": [
    "## create an array of zeros \n",
    "zeros2D=np.zeros(shape=(3,4))\n",
    "print(zeros2D)\n",
    "## create an array of ones\n",
    "ones3D=np.ones((4,2,5))\n",
    "print(ones3D)\n",
    "\n",
    "## create identity array\n",
    "identity2D=np.eye(4)\n",
    "print(identity2D)\n",
    "\n",
    "# zeros_like used to return an array of similar shapes and sizes with values of elements \n",
    "#of array replaced with zeros.\n",
    "zeros_Like=np.zeros_like(ones3D)\n",
    "print(zeros_Like.shape)"
   ]
  },
  {
   "cell_type": "code",
   "execution_count": null,
   "metadata": {},
   "outputs": [],
   "source": []
  },
  {
   "cell_type": "code",
   "execution_count": 42,
   "metadata": {},
   "outputs": [
    {
     "name": "stdout",
     "output_type": "stream",
     "text": [
      "[2 4 6 8]\n"
     ]
    }
   ],
   "source": [
    " ## np.arange\n",
    "\n",
    "seq=np.arange(2,10,2)  \n",
    "print(seq)\n",
    "    \n",
    "## a = np.arange(3).reshape((3, 1))"
   ]
  },
  {
   "cell_type": "markdown",
   "metadata": {},
   "source": [
    "## Access Array Elements\n",
    "- Array indexing is the same as accessing an array element.\n",
    "\n",
    "- You can access an array element by referring to its index number.\n",
    "\n",
    "- The indexes in NumPy arrays start with 0, meaning that the first element has index 0, and the second has index 1 etc."
   ]
  },
  {
   "cell_type": "code",
   "execution_count": 52,
   "metadata": {},
   "outputs": [
    {
     "name": "stdout",
     "output_type": "stream",
     "text": [
      "[ 0  1  2  3  4  5  6  7  8  9 10 11 12 13 14]\n",
      "[ 0  2  4  6  8 10 12 14]\n",
      "[0 2]\n",
      "[ 5  6  7  8  9 10 11 12 13 14]\n",
      "[ 5  6  7  8  9 10 11 12 13 14]\n",
      "[14 13 12 11 10  9  8  7  6  5  4  3  2  1  0]\n",
      "5\n",
      "[1 2 3 4]\n"
     ]
    }
   ],
   "source": [
    "arr1=np.array([1,2,3,4,5])\n",
    "arr2=np.arange(15)\n",
    "print(arr2)\n",
    "print(arr2[::2])\n",
    "print(arr2[:4:2])\n",
    "print(arr2[5::])\n",
    "print(arr2[5:])\n",
    "print(arr2[::-1])\n",
    "# access to element in 2D array\n",
    "arr2D=np.array([[1,2,3,4,5], [6,7,8,9,10]])\n",
    "print(arr1[-1])\n",
    "print(arr1[0:4])\n",
    "\n",
    "## Negative Indexing"
   ]
  },
  {
   "cell_type": "markdown",
   "metadata": {},
   "source": [
    "## Slicing in python means taking elements from one given index to another given index.\n",
    "\n",
    "- We pass slice instead of index like this: [start:end].\n",
    "\n",
    "- We can also define the step, like this: [start:end:step].\n",
    "\n",
    "- If we don't pass start its considered 0\n",
    "\n",
    "- If we don't pass end its considered length of array in that dimension\n",
    "\n",
    "- If we don't pass step its considered 1"
   ]
  },
  {
   "cell_type": "code",
   "execution_count": 64,
   "metadata": {},
   "outputs": [
    {
     "name": "stdout",
     "output_type": "stream",
     "text": [
      "[2 7]\n",
      "2\n",
      "8\n",
      "[ 6  7  8  9 10]\n",
      "[1 2 3 4 5]\n",
      "\n",
      "[[ 1  3]\n",
      " [ 6  8]\n",
      " [16 18]]\n",
      "\n",
      "[[  3   5]\n",
      " [  8  10]\n",
      " [ 18 110]]\n"
     ]
    }
   ],
   "source": [
    "arr2D=np.array([[1,2,3,4,5], [6,7,8,9,10]])\n",
    "arr2D1=np.array([[1,2,3,4,5], [6,7,8,9,10],[16,17,18,19,110]])\n",
    "print(arr2D[:,1])\n",
    "print(arr2D[0,1])\n",
    "## print 8\n",
    "print(arr2D[1,2])\n",
    "print(arr2D[1,:])\n",
    "print(arr2D1[0,:])\n",
    "print()\n",
    "print(arr2D1[:,[0,2]])\n",
    "print()\n",
    "print(arr2D1[:,2::2])\n"
   ]
  },
  {
   "cell_type": "code",
   "execution_count": 13,
   "metadata": {},
   "outputs": [
    {
     "data": {
      "text/plain": [
       "array([ 5,  6,  7,  8,  9, 10, 11, 12])"
      ]
     },
     "execution_count": 13,
     "metadata": {},
     "output_type": "execute_result"
    }
   ],
   "source": [
    "## Return every other element from the entire array:\n",
    "xs=np.array([1, 2, 3, 4, 5, 6, 7, 8, 9, 10, 11, 12])\n",
    "xs[4::]\n",
    "\n",
    "\n"
   ]
  },
  {
   "cell_type": "markdown",
   "metadata": {},
   "source": [
    "## COPY"
   ]
  },
  {
   "cell_type": "code",
   "execution_count": null,
   "metadata": {},
   "outputs": [],
   "source": []
  },
  {
   "cell_type": "markdown",
   "metadata": {},
   "source": [
    "## Reshaping arrays"
   ]
  },
  {
   "cell_type": "code",
   "execution_count": 19,
   "metadata": {},
   "outputs": [
    {
     "name": "stdout",
     "output_type": "stream",
     "text": [
      "[1 2 3 4 5 6]\n"
     ]
    }
   ],
   "source": [
    "\n",
    "\n",
    "\n",
    "# Unknown Dimension (-1)\n",
    "\n",
    "\n",
    "## Flattening the arrays\n",
    "arr10 = np.array([[1, 2, 3], [4, 5, 6]])\n",
    "print\n",
    "# method 1:\n",
    "\n",
    "\n",
    "# metnod 2 (ravel)\n",
    "\n",
    "\n"
   ]
  },
  {
   "cell_type": "code",
   "execution_count": 20,
   "metadata": {},
   "outputs": [
    {
     "name": "stdout",
     "output_type": "stream",
     "text": [
      "[1 2 3]\n",
      "[4 5 6]\n"
     ]
    }
   ],
   "source": [
    "# # \n",
    "\n",
    "\n",
    "arr12 = np.array([[1, 2, 3], [4, 5, 6]])\n",
    "\n",
    "for x in arr12:\n",
    "  print(x)\n",
    "\n"
   ]
  },
  {
   "cell_type": "markdown",
   "metadata": {},
   "source": [
    "## concatenate two arrays"
   ]
  },
  {
   "cell_type": "code",
   "execution_count": 23,
   "metadata": {},
   "outputs": [
    {
     "name": "stdout",
     "output_type": "stream",
     "text": [
      "[ 1  3 10 30]\n"
     ]
    }
   ],
   "source": [
    "a1=np.array([1,3])\n",
    "a2=np.array([10,30])\n"
   ]
  },
  {
   "cell_type": "code",
   "execution_count": null,
   "metadata": {},
   "outputs": [],
   "source": [
    "# Join two 2-D arrays along rows (axis=1): np.concatenate((arr1, arr2), axis=1)\n",
    "\n",
    "\n",
    "\n",
    "\n",
    "## Joining Arrays Using Stack Functions np.stack((arr1, arr2), axis=1)\n",
    " \n",
    "\n",
    "    \n",
    "\n",
    "#Stacking Along Rows\n",
    "\n",
    "\n",
    "# Stacking Along Columns"
   ]
  },
  {
   "cell_type": "markdown",
   "metadata": {},
   "source": [
    "## Random Numbers in NumPy"
   ]
  },
  {
   "cell_type": "code",
   "execution_count": 83,
   "metadata": {},
   "outputs": [
    {
     "name": "stdout",
     "output_type": "stream",
     "text": [
      "[[0.7166922  0.2543734 ]\n",
      " [0.3025695  0.77925832]\n",
      " [0.06006672 0.93133024]\n",
      " [0.92367965 0.45953541]\n",
      " [0.06592582 0.95086027]\n",
      " [0.83191604 0.57472937]\n",
      " [0.14044968 0.35045365]\n",
      " [0.40298248 0.65549844]\n",
      " [0.01420475 0.6355697 ]\n",
      " [0.91459778 0.94807317]]\n",
      "[[  5  48  99  40]\n",
      " [ 79 -20  13  62]\n",
      " [ 66  11  96  -6]\n",
      " [ 98  -2  71 -10]]\n"
     ]
    }
   ],
   "source": [
    "arr100=np.random.rand(10,2)\n",
    "print(arr100)\n",
    "arr200=np.random.randint(-20, 100,size=(4,4))\n",
    "print(arr200)\n",
    "\n",
    "#arrR=np.random.randint(200,size=(3,4))\n",
    "\n",
    "\n",
    "## np.random.random\n",
    "\n",
    "\n",
    "## x = random.choice([3, 5, 7, 9], size=(3, 5))\n",
    "\n",
    "##print(x)"
   ]
  },
  {
   "cell_type": "code",
   "execution_count": 86,
   "metadata": {},
   "outputs": [
    {
     "name": "stdout",
     "output_type": "stream",
     "text": [
      "[[88 40 14 99 62]\n",
      " [54 82 22 44 23]\n",
      " [31 52 41 42 69]\n",
      " [72 79 33 89 74]\n",
      " [99 95  4 37 11]]\n"
     ]
    }
   ],
   "source": [
    "def createMatrix(m=10,n=10):\n",
    "    return np.random.randint(100,size=(m,n))\n",
    "arr300=createMatrix(5,5)\n",
    "print(arr300)\n",
    "                "
   ]
  },
  {
   "cell_type": "markdown",
   "metadata": {},
   "source": [
    "## np.random.seed()\n",
    "Seed function is used to save the state of a random function, so that it can generate same random numbers on multiple executions of the code on the same machine or on different machines (for a specific seed value). The seed value is the previous value number generated by the generator. For the first time when there is no previous value, it uses current system time."
   ]
  },
  {
   "cell_type": "code",
   "execution_count": 101,
   "metadata": {},
   "outputs": [],
   "source": []
  },
  {
   "cell_type": "code",
   "execution_count": 109,
   "metadata": {},
   "outputs": [
    {
     "data": {
      "text/plain": [
       "array([5, 6, 1, 4, 2, 5, 5, 5, 1, 1, 9, 5, 7, 4, 4, 3, 2, 3, 2, 4, 5, 2,\n",
       "       2, 1, 8, 9, 5, 4, 6, 7, 4, 3, 9, 2, 5, 1, 9, 4, 6, 6, 2, 8, 9, 7,\n",
       "       5, 8, 4, 6, 4, 7])"
      ]
     },
     "execution_count": 109,
     "metadata": {},
     "output_type": "execute_result"
    }
   ],
   "source": [
    "np.random.seed(0)\n",
    "np.random.randint(low = 1, high = 10, size = 50)"
   ]
  },
  {
   "cell_type": "markdown",
   "metadata": {},
   "source": [
    "## Arithmetic Operations\n",
    "Input arrays for performing arithmetic operations such as add(), subtract(), multiply(), and divide() "
   ]
  },
  {
   "cell_type": "markdown",
   "metadata": {},
   "source": [
    "#### NumPy matrix multiplication can be done by the following three methods.\n",
    "\n",
    "- multiply(): element-wise matrix multiplication.\n",
    "- matmul(): matrix product of two arrays.\n",
    "- dot(): dot product of two arrays."
   ]
  },
  {
   "cell_type": "code",
   "execution_count": null,
   "metadata": {},
   "outputs": [],
   "source": []
  },
  {
   "cell_type": "markdown",
   "metadata": {},
   "source": [
    "## Normal Distribution\n",
    "The Normal Distribution is one of the most important distributions.\n",
    "\n",
    "It is also called the Gaussian Distribution after the German mathematician Carl Friedrich Gauss.\n",
    "\n",
    "It fits the probability distribution of many events, eg. IQ Scores, Heartbeat etc.\n",
    "\n",
    "Use the random.normal() method to get a Normal Data Distribution.\n",
    "\n",
    "It has three parameters:\n",
    "\n",
    "loc - (Mean) where the peak of the bell exists.\n",
    "\n",
    "scale - (Standard Deviation) how flat the graph distribution should be.\n",
    "\n",
    "size - The shape of the returned array.\n",
    "\n"
   ]
  }
 ],
 "metadata": {
  "kernelspec": {
   "display_name": "Python 3",
   "language": "python",
   "name": "python3"
  },
  "language_info": {
   "codemirror_mode": {
    "name": "ipython",
    "version": 3
   },
   "file_extension": ".py",
   "mimetype": "text/x-python",
   "name": "python",
   "nbconvert_exporter": "python",
   "pygments_lexer": "ipython3",
   "version": "3.7.4"
  }
 },
 "nbformat": 4,
 "nbformat_minor": 2
}
